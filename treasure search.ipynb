{
 "cells": [
  {
   "cell_type": "code",
   "execution_count": 2,
   "id": "d81349f6-004e-43d0-a13b-2e229f905a7c",
   "metadata": {},
   "outputs": [
    {
     "name": "stdout",
     "output_type": "stream",
     "text": [
      "Path to treasure: [(0, 0), (0, 1), (0, 2), (0, 3), (1, 3), (2, 3), (3, 3)]\n"
     ]
    }
   ],
   "source": [
    "import heapq\n",
    "\n",
    "class GridTreasureSearch:\n",
    "    def __init__(self, grid, start, treasure):\n",
    "        self.grid = grid\n",
    "        self.start = start\n",
    "        self.treasure = treasure\n",
    "        self.rows = len(grid)\n",
    "        self.cols = len(grid[0])\n",
    "\n",
    "    def manhattan_distance(self, x1, y1, x2, y2):\n",
    "        return abs(x1 - x2) + abs(y1 - y2)\n",
    "\n",
    "    def best_first_search(self):\n",
    "        pq = []\n",
    "        heapq.heappush(pq, (0, self.start))\n",
    "        visited = set()\n",
    "        parents = {self.start: None}\n",
    "\n",
    "        while pq:\n",
    "            _, current = heapq.heappop(pq)\n",
    "\n",
    "            if current in visited:\n",
    "                continue\n",
    "            visited.add(current)\n",
    "\n",
    "            if current == self.treasure:\n",
    "                path = []\n",
    "                while current:\n",
    "                    path.append(current)\n",
    "                    current = parents[current]\n",
    "                return path[::-1]\n",
    "\n",
    "            x, y = current\n",
    "            neighbors = [(x - 1, y), (x + 1, y), (x, y - 1), (x, y + 1)]\n",
    "\n",
    "            for nx, ny in neighbors:\n",
    "                if 0 <= nx < self.rows and 0 <= ny < self.cols and (nx, ny) not in visited and self.grid[nx][ny] == 0:\n",
    "                    heuristic = self.manhattan_distance(nx, ny, *self.treasure)\n",
    "                    heapq.heappush(pq, (heuristic, (nx, ny)))\n",
    "                    parents[(nx, ny)] = current\n",
    "\n",
    "        return \"Treasure not found\"\n",
    "\n",
    "\n",
    "\n",
    "grid = [\n",
    "    [0, 0, 0, 0],\n",
    "    [0, 1, 1, 0],\n",
    "    [0, 0, 0, 0],\n",
    "    [1, 0, 0, 0]\n",
    "]\n",
    "\n",
    "start = (0, 0)\n",
    "treasure = (3, 3)\n",
    "\n",
    "solver = GridTreasureSearch(grid, start, treasure)\n",
    "print(\"Path to treasure:\", solver.best_first_search())"
   ]
  },
  {
   "cell_type": "code",
   "execution_count": null,
   "id": "1a7270ad-2d00-45de-b4f3-eca4c1f2d571",
   "metadata": {},
   "outputs": [],
   "source": []
  }
 ],
 "metadata": {
  "kernelspec": {
   "display_name": "Python 3 (ipykernel)",
   "language": "python",
   "name": "python3"
  },
  "language_info": {
   "codemirror_mode": {
    "name": "ipython",
    "version": 3
   },
   "file_extension": ".py",
   "mimetype": "text/x-python",
   "name": "python",
   "nbconvert_exporter": "python",
   "pygments_lexer": "ipython3",
   "version": "3.12.7"
  }
 },
 "nbformat": 4,
 "nbformat_minor": 5
}
