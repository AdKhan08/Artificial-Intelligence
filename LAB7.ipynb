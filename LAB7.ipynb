{
 "cells": [
  {
   "cell_type": "code",
   "execution_count": 4,
   "id": "32f9ef7b-f51c-48d7-9fe4-7867851beb57",
   "metadata": {},
   "outputs": [
    {
     "name": "stdout",
     "output_type": "stream",
     "text": [
      "Exploring state: (0, 0)\n",
      "Exploring state: (0, 5)\n",
      "Exploring state: (3, 2)\n",
      "Exploring state: (3, 0)\n",
      "Exploring state: (0, 3)\n",
      "Exploring state: (3, 3)\n",
      "Exploring state: (1, 5)\n",
      "Exploring state: (1, 0)\n",
      "Exploring state: (0, 1)\n",
      "Exploring state: (3, 1)\n",
      "Exploring state: (0, 4)\n",
      "\n",
      "Solution Found! Path:\n",
      "(0, 0)\n",
      "(0, 5)\n",
      "(3, 2)\n",
      "(3, 0)\n",
      "(0, 3)\n",
      "(3, 3)\n",
      "(1, 5)\n",
      "(1, 0)\n",
      "(0, 1)\n",
      "(3, 1)\n",
      "(0, 4)\n"
     ]
    },
    {
     "data": {
      "text/plain": [
       "True"
      ]
     },
     "execution_count": 4,
     "metadata": {},
     "output_type": "execute_result"
    }
   ],
   "source": [
    "def water_jug_dfs(cap_a, cap_b, target):\n",
    "    stack = [(0, 0, [])]  # (jug A, jug B, path taken)\n",
    "    visited = set()\n",
    "\n",
    "    while stack:\n",
    "        a, b, path = stack.pop()  # Get the current state and path\n",
    "        if (a, b) in visited:\n",
    "            continue\n",
    "        visited.add((a, b))\n",
    "\n",
    "        # Add the current state to the path\n",
    "        new_path = path + [(a, b)]\n",
    "        print(f\"Exploring state: {new_path[-1]}\")  # Show the steps\n",
    "\n",
    "        # Check if we reached the target\n",
    "        if a == target or b == target:\n",
    "            print(\"\\nSolution Found! Path:\")\n",
    "            for step in new_path:\n",
    "                print(step)\n",
    "            return True\n",
    "\n",
    "        # Generate possible states\n",
    "        next_states = [\n",
    "            (cap_a, b, new_path),  # Fill Jug A\n",
    "            (a, cap_b, new_path),  # Fill Jug B\n",
    "            (0, b, new_path),  # Empty Jug A\n",
    "            (a, 0, new_path),  # Empty Jug B\n",
    "            (a - min(a, cap_b - b), b + min(a, cap_b - b), new_path),  # Pour A → B\n",
    "            (a + min(b, cap_a - a), b - min(b, cap_a - a), new_path)   # Pour B → A\n",
    "        ]\n",
    "\n",
    "        # Push valid new states onto the stack\n",
    "        for state in next_states:\n",
    "            if (state[0], state[1]) not in visited:\n",
    "                stack.append(state)\n",
    "\n",
    "    print(\"No solution found.\")\n",
    "    return False\n",
    "\n",
    "# Example: Solve for Jug A = 3 liters, Jug B = 5 liters, Target = 4 liters\n",
    "water_jug_dfs(3, 5, 4)\n"
   ]
  }
 ],
 "metadata": {
  "kernelspec": {
   "display_name": "Python 3 (ipykernel)",
   "language": "python",
   "name": "python3"
  },
  "language_info": {
   "codemirror_mode": {
    "name": "ipython",
    "version": 3
   },
   "file_extension": ".py",
   "mimetype": "text/x-python",
   "name": "python",
   "nbconvert_exporter": "python",
   "pygments_lexer": "ipython3",
   "version": "3.12.7"
  }
 },
 "nbformat": 4,
 "nbformat_minor": 5
}
