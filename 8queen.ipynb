{
 "cells": [
  {
   "cell_type": "code",
   "execution_count": 3,
   "id": "87011d88-d4b1-418b-896e-0ecdd51ed897",
   "metadata": {},
   "outputs": [
    {
     "name": "stdout",
     "output_type": "stream",
     "text": [
      "- Q - - - - - -\n",
      "- - - Q - - - -\n",
      "- - - - - - Q -\n",
      "Q - - - - - - -\n",
      "- - Q - - - - -\n",
      "- - - - Q Q - -\n",
      "- - - - - - - Q\n",
      "- - - - - - - -\n",
      "\n",
      "\n",
      "Local Optimum Reached. Try Again.\n"
     ]
    }
   ],
   "source": [
    "import random\n",
    "\n",
    "N = 8\n",
    "\n",
    "def print_solution(positions):\n",
    "    board = [[\"-\" for _ in range(N)] for _ in range(N)]\n",
    "    for col, row in enumerate(positions):\n",
    "        board[row][col] = \"Q\"\n",
    "    for row in board:\n",
    "        print(\" \".join(row))\n",
    "    print(\"\\n\")\n",
    "\n",
    "def get_heuristic(positions):\n",
    "    attacks = 0\n",
    "    for i in range(N):\n",
    "        for j in range(i + 1, N):\n",
    "            if positions[i] == positions[j] or abs(positions[i] - positions[j]) == abs(i - j):\n",
    "                attacks += 1\n",
    "    return attacks\n",
    "\n",
    "def get_next_positions(positions):\n",
    "    best_positions = positions[:]\n",
    "    best_h = get_heuristic(positions)\n",
    "    \n",
    "    for col in range(N):\n",
    "        for row in range(N):\n",
    "            if positions[col] == row:\n",
    "                continue\n",
    "            new_positions = positions[:]\n",
    "            new_positions[col] = row\n",
    "            h = get_heuristic(new_positions)\n",
    "            if h < best_h:\n",
    "                best_h = h\n",
    "                best_positions = new_positions[:]\n",
    "    \n",
    "    return best_positions, best_h\n",
    "\n",
    "def solve():\n",
    "    positions = [random.randint(0, N - 1) for _ in range(N)]\n",
    "    h = get_heuristic(positions)\n",
    "    \n",
    "    while h > 0:\n",
    "        new_positions, new_h = get_next_positions(positions)\n",
    "        if new_h >= h:\n",
    "            break\n",
    "        positions, h = new_positions, new_h\n",
    "    \n",
    "    print_solution(positions)\n",
    "    if h == 0:\n",
    "        print(\"Solution Found!\")\n",
    "    else:\n",
    "        print(\"Local Optimum Reached. Try Again.\")\n",
    "\n",
    "solve()\n"
   ]
  },
  {
   "cell_type": "code",
   "execution_count": null,
   "id": "96ff92ec-6a61-4836-a9f4-74a63c01537d",
   "metadata": {},
   "outputs": [],
   "source": []
  }
 ],
 "metadata": {
  "kernelspec": {
   "display_name": "Python 3 (ipykernel)",
   "language": "python",
   "name": "python3"
  },
  "language_info": {
   "codemirror_mode": {
    "name": "ipython",
    "version": 3
   },
   "file_extension": ".py",
   "mimetype": "text/x-python",
   "name": "python",
   "nbconvert_exporter": "python",
   "pygments_lexer": "ipython3",
   "version": "3.12.7"
  }
 },
 "nbformat": 4,
 "nbformat_minor": 5
}
