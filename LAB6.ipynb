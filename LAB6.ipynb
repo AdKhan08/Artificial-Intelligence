{
 "cells": [
  {
   "cell_type": "code",
   "execution_count": 43,
   "id": "b67b6d60-09b7-4600-9a4f-aa9a059af2f2",
   "metadata": {},
   "outputs": [
    {
     "name": "stdin",
     "output_type": "stream",
     "text": [
      "Enter number of rows:  3\n",
      "Enter number of columns:  3\n"
     ]
    },
    {
     "name": "stdout",
     "output_type": "stream",
     "text": [
      "Enter the grid row by row (0 for open space, 1 for obstacle):\n"
     ]
    },
    {
     "name": "stdin",
     "output_type": "stream",
     "text": [
      " 0 1 0\n",
      " 1 1 0\n",
      " 0 0 0\n",
      "Enter start position (x y):  2 1\n",
      "Enter goal position (x y):  3 3\n"
     ]
    },
    {
     "name": "stdout",
     "output_type": "stream",
     "text": [
      "\n",
      "Grid before running A* algorithm:\n",
      ". # . \n",
      "# # . \n",
      ". . . \n",
      "\n",
      "No path found.\n"
     ]
    }
   ],
   "source": [
    "import heapq\n",
    "\n",
    "class Node:\n",
    "    def __init__(self, position, g_cost=0, h_cost=0):\n",
    "        self.position = position\n",
    "        self.g_cost = g_cost  # Cost from start to current node\n",
    "        self.h_cost = h_cost  # Heuristic from current node to goal\n",
    "        self.f_cost = g_cost + h_cost  # Total cost (g_cost + h_cost)\n",
    "        self.parent = None  # To track the path\n",
    "\n",
    "    def __lt__(self, other):\n",
    "        return self.f_cost < other.f_cost  # Priority queue comparison\n",
    "\n",
    "def heuristic(a, b):\n",
    "    \"\"\"Using Manhattan distance as heuristic (grid-based).\"\"\"\n",
    "    return abs(a[0] - b[0]) + abs(a[1] - b[1])\n",
    "\n",
    "def a_star(start, goal, grid):\n",
    "    \"\"\"A* search algorithm implementation.\"\"\"\n",
    "    open_list = []\n",
    "    closed_list = set()\n",
    "\n",
    "    start_node = Node(start, 0, heuristic(start, goal))\n",
    "    heapq.heappush(open_list, start_node)\n",
    "\n",
    "    while open_list:\n",
    "        current_node = heapq.heappop(open_list)\n",
    "\n",
    "        if current_node.position == goal:\n",
    "            path = []\n",
    "            while current_node:\n",
    "                path.append(current_node.position)\n",
    "                current_node = current_node.parent\n",
    "            return path[::-1]  # Return reversed path (from start to goal)\n",
    "\n",
    "        closed_list.add(current_node.position)\n",
    "\n",
    "        x, y = current_node.position\n",
    "        neighbors = [(x+1, y), (x-1, y), (x, y+1), (x, y-1)]  # Right, Left, Down, Up\n",
    "\n",
    "        for neighbor in neighbors:\n",
    "            if 0 <= neighbor[0] < len(grid) and 0 <= neighbor[1] < len(grid[0]) and grid[neighbor[0]][neighbor[1]] == 0:\n",
    "                if neighbor in closed_list:\n",
    "                    continue\n",
    "                \n",
    "                g_cost = current_node.g_cost + 1\n",
    "                h_cost = heuristic(neighbor, goal)\n",
    "                neighbor_node = Node(neighbor, g_cost, h_cost)\n",
    "                neighbor_node.parent = current_node\n",
    "\n",
    "                # Check if the neighbor is already in open_list with a higher cost\n",
    "                for open_node in open_list:\n",
    "                    if open_node.position == neighbor and open_node.f_cost <= neighbor_node.f_cost:\n",
    "                        break\n",
    "                else:\n",
    "                    heapq.heappush(open_list, neighbor_node)\n",
    "\n",
    "    return None  # No path found\n",
    "\n",
    "def print_grid(grid, path=None):\n",
    "    \"\"\"Prints the grid with obstacles and the path (if found).\"\"\"\n",
    "    for i in range(len(grid)):\n",
    "        row = \"\"\n",
    "        for j in range(len(grid[0])):\n",
    "            if path and (i, j) in path:\n",
    "                row += \"P \"  # Path\n",
    "            elif grid[i][j] == 1:\n",
    "                row += \"# \"  # Obstacle\n",
    "            else:\n",
    "                row += \". \"  # Empty space\n",
    "        print(row)\n",
    "\n",
    "if __name__ == \"__main__\":    \n",
    "    # Input grid size and obstacles\n",
    "    rows = int(input(\"Enter number of rows: \"))\n",
    "    cols = int(input(\"Enter number of columns: \"))\n",
    "    grid = []\n",
    "\n",
    "    print(\"Enter the grid row by row (0 for open space, 1 for obstacle):\")\n",
    "    for i in range(rows):\n",
    "        grid.append(list(map(int, input().split())))\n",
    "\n",
    "    # Input start and goal positions\n",
    "    start = tuple(map(int, input(\"Enter start position (x y): \").split()))\n",
    "    goal = tuple(map(int, input(\"Enter goal position (x y): \").split()))\n",
    "\n",
    "    print(\"\\nGrid before running A* algorithm:\")\n",
    "    print_grid(grid)\n",
    "\n",
    "    # Run A* algorithm\n",
    "    path = a_star(start, goal, grid)\n",
    "\n",
    "    if path:\n",
    "        print(\"\\nPath found:\")\n",
    "        print(path)\n",
    "        print(\"\\nGrid with path:\")\n",
    "        print_grid(grid, path)\n",
    "    else:\n",
    "        print(\"\\nNo path found.\")\n"
   ]
  }
 ],
 "metadata": {
  "kernelspec": {
   "display_name": "Python 3 (ipykernel)",
   "language": "python",
   "name": "python3"
  },
  "language_info": {
   "codemirror_mode": {
    "name": "ipython",
    "version": 3
   },
   "file_extension": ".py",
   "mimetype": "text/x-python",
   "name": "python",
   "nbconvert_exporter": "python",
   "pygments_lexer": "ipython3",
   "version": "3.12.7"
  }
 },
 "nbformat": 4,
 "nbformat_minor": 5
}
