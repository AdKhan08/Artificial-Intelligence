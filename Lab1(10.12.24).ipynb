{
 "cells": [
  {
   "cell_type": "code",
   "execution_count": null,
   "id": "b2d231b6-89d8-4e6d-a05b-631732bd3857",
   "metadata": {},
   "outputs": [],
   "source": []
  },
  {
   "cell_type": "code",
   "execution_count": 9,
   "id": "12a6d50f-0120-427b-8fc2-21c74781632b",
   "metadata": {},
   "outputs": [
    {
     "name": "stdout",
     "output_type": "stream",
     "text": [
      "BFS Path: [(0, 0), (0, 1), (0, 2), (0, 3), (1, 3), (2, 3), (3, 3), (3, 4), (4, 4)]\n",
      "BFS Nodes Explored: 20\n",
      "DFS Path: [(0, 0), (0, 1), (0, 2), (0, 3), (0, 4), (1, 4), (1, 3), (2, 3), (3, 3), (3, 4), (4, 4)]\n",
      "DFS Nodes Explored: 11\n"
     ]
    }
   ],
   "source": [
    "from collections import deque\n",
    "\n",
    "def bfs(maze, start, end):\n",
    "    queue, visited, parent = deque([start]), {start}, {start: None}\n",
    "    nodes_explored = 0\n",
    "\n",
    "    while queue:\n",
    "        current = queue.popleft()\n",
    "        nodes_explored += 1\n",
    "        \n",
    "        if current == end:\n",
    "            path = []\n",
    "            while current:\n",
    "                path.append(current)\n",
    "                current = parent[current]\n",
    "            return path[::-1], nodes_explored\n",
    "        \n",
    "        for direction in [(0, 1), (1, 0), (0, -1), (-1, 0)]:\n",
    "            neighbor = (current[0] + direction[0], current[1] + direction[1])\n",
    "            if 0 <= neighbor[0] < len(maze) and 0 <= neighbor[1] < len(maze[0]) and maze[neighbor[0]][neighbor[1]] == 1 and neighbor not in visited:\n",
    "                visited.add(neighbor)\n",
    "                parent[neighbor] = current\n",
    "                queue.append(neighbor)\n",
    "\n",
    "    return None, nodes_explored\n",
    "\n",
    "def dfs(maze, start, end, visited=None, nodes_explored=0):\n",
    "    if visited is None:\n",
    "        visited = set()\n",
    "    visited.add(start)\n",
    "    nodes_explored += 1\n",
    "\n",
    "    if start == end:\n",
    "        return [start], nodes_explored\n",
    "\n",
    "    for direction in [(0, 1), (1, 0), (0, -1), (-1, 0)]:\n",
    "        neighbor = (start[0] + direction[0], start[1] + direction[1])\n",
    "        if 0 <= neighbor[0] < len(maze) and 0 <= neighbor[1] < len(maze[0]) and maze[neighbor[0]][neighbor[1]] == 1 and neighbor not in visited:\n",
    "            path, explored = dfs(maze, neighbor, end, visited, nodes_explored)\n",
    "            if path:\n",
    "                return [start] + path, explored\n",
    "\n",
    "    return None, nodes_explored\n",
    "\n",
    "# Example maze (0 = wall, 1 = path)\n",
    "maze = [\n",
    "    [1, 1, 1, 1, 1],\n",
    "    [1, 1, 0, 1, 1],\n",
    "    [1, 1, 1, 1, 0],\n",
    "    [1, 0, 1, 1, 1],\n",
    "    [1, 0, 1, 0, 1]\n",
    "]\n",
    "\n",
    "start, end = (0, 0), (4, 4)\n",
    "\n",
    "bfs_path, bfs_nodes_explored = bfs(maze, start, end)\n",
    "dfs_path, dfs_nodes_explored = dfs(maze, start, end)\n",
    "\n",
    "print(\"BFS Path:\", bfs_path)\n",
    "print(\"BFS Nodes Explored:\", bfs_nodes_explored)\n",
    "print(\"DFS Path:\", dfs_path)\n",
    "print(\"DFS Nodes Explored:\", dfs_nodes_explored)"
   ]
  },
  {
   "cell_type": "code",
   "execution_count": 11,
   "id": "eb0d32db-bf44-4ebc-92c5-a612780f3b87",
   "metadata": {},
   "outputs": [],
   "source": [
    "start, end = (0, 0), (4, 4)"
   ]
  },
  {
   "cell_type": "code",
   "execution_count": null,
   "id": "e1d98876-ba03-4f66-9026-19608a763b71",
   "metadata": {},
   "outputs": [],
   "source": []
  }
 ],
 "metadata": {
  "kernelspec": {
   "display_name": "Python 3 (ipykernel)",
   "language": "python",
   "name": "python3"
  },
  "language_info": {
   "codemirror_mode": {
    "name": "ipython",
    "version": 3
   },
   "file_extension": ".py",
   "mimetype": "text/x-python",
   "name": "python",
   "nbconvert_exporter": "python",
   "pygments_lexer": "ipython3",
   "version": "3.12.7"
  }
 },
 "nbformat": 4,
 "nbformat_minor": 5
}
